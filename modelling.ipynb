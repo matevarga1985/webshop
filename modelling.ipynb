{
 "cells": [
  {
   "cell_type": "code",
   "execution_count": null,
   "metadata": {},
   "outputs": [],
   "source": [
    "# basic\n",
    "import pandas as pd\n",
    "import numpy as np\n",
    "import random\n",
    "import pickle\n",
    "# import json\n",
    "# import re\n",
    "\n",
    "# vizu\n",
    "import matplotlib.pyplot as plt\n",
    "# import seaborn as sns\n",
    "\n",
    "# modelling\n",
    "import sklearn\n",
    "from sklearn.preprocessing import StandardScaler\n",
    "from sklearn.metrics import r2_score\n",
    "from sklearn.model_selection import GridSearchCV\n",
    "from sklearn.model_selection import train_test_split\n",
    "from sklearn.linear_model import LinearRegression\n",
    "from sklearn.linear_model import Lasso\n",
    "from sklearn.linear_model import Ridge\n",
    "from sklearn.ensemble import RandomForestRegressor\n",
    "from sklearn.ensemble import GradientBoostingRegressor\n",
    "\n",
    "# from sklearn.preprocessing import label_binarize\n",
    "# from sklearn.pipeline import make_pipeline\n",
    "# from sklearn import metrics\n",
    "# from sklearn.metrics import confusion_matrix\n",
    "\n",
    "# from sklearn.metrics import mean_squared_error\n",
    "# from sklearn.neighbors import KNeighborsRegressor\n",
    "# from sklearn import svm\n",
    "# import xgboost as xgb"
   ]
  },
  {
   "cell_type": "code",
   "execution_count": null,
   "metadata": {},
   "outputs": [],
   "source": [
    "myrandom = 42\n",
    "df = pd.read_csv('nyaklanc.csv')\n",
    "details = [\"Anyag\", \"Nyaklánc kapocs\", \"Motívum\", \"Célcsoport\", \"Ékszer súlya\", \"Tisztaság\", \"Arany színe\", \"Hossz\", \"Szélesség\", \"Magasság\", \"Kő\"]\n",
    "df.shape"
   ]
  },
  {
   "cell_type": "markdown",
   "metadata": {},
   "source": [
    "check target - \"price\""
   ]
  },
  {
   "cell_type": "code",
   "execution_count": null,
   "metadata": {},
   "outputs": [],
   "source": [
    "df['price'].hist(bins=50)"
   ]
  },
  {
   "cell_type": "markdown",
   "metadata": {},
   "source": [
    "check feature - \"weight\""
   ]
  },
  {
   "cell_type": "code",
   "execution_count": null,
   "metadata": {},
   "outputs": [],
   "source": [
    "df['weight'] = df['Ékszer súlya'].apply(lambda x: x.replace(' gramm', '') if pd.notnull(x) else x)\n",
    "df['weight'] = df['weight'].astype(float)\n",
    "df['weight'].hist(bins=50)"
   ]
  },
  {
   "cell_type": "code",
   "execution_count": null,
   "metadata": {},
   "outputs": [],
   "source": [
    "# Based on manual check the extreme_heavy_item is excluded\n",
    "extreme_heavy_item = df.loc[df['weight']>30, 'url'].tolist()\n",
    "if extreme_heavy_item:\n",
    "    extreme_heavy_item = extreme_heavy_item[0]\n",
    "    z_score_of_extreme_heavy_item = (df['weight'] - df['weight'].mean())/df['weight'].std(ddof=0).max()\n",
    "    print(f'dropped out URL with weight-zscore {round(z_score_of_extreme_heavy_item.max(),2)}: {extreme_heavy_item}')\n",
    "    df = df.loc[df['url'] != extreme_heavy_item].copy()"
   ]
  },
  {
   "cell_type": "markdown",
   "metadata": {},
   "source": [
    "check feature - \"width\""
   ]
  },
  {
   "cell_type": "code",
   "execution_count": null,
   "metadata": {},
   "outputs": [],
   "source": [
    "def get_width(szelesseg):\n",
    "    if pd.isnull(szelesseg):\n",
    "        return None\n",
    "    else:\n",
    "        try:\n",
    "            szelesseg = float(szelesseg.replace(' mm', '').replace(',', '.'))\n",
    "        except:\n",
    "            print(f'failed to convert: {szelesseg}')\n",
    "            szelesseg = None\n",
    "    return szelesseg\n",
    "\n",
    "df['width'] = df['Szélesség'].apply(get_width)"
   ]
  },
  {
   "cell_type": "code",
   "execution_count": null,
   "metadata": {},
   "outputs": [],
   "source": [
    "df['width'].hist(bins=50)"
   ]
  },
  {
   "cell_type": "code",
   "execution_count": null,
   "metadata": {},
   "outputs": [],
   "source": [
    "# Based on manual check the extreme_wide_item is excluded\n",
    "extreme_wide_item = df.loc[df['width']>100, 'url'].tolist()\n",
    "if extreme_wide_item:\n",
    "    extreme_wide_item = extreme_wide_item[0]\n",
    "    z_score_of_extreme_wide_item = ((df['width'] - df['width'].mean())/df['width'].std(ddof=0)).max()\n",
    "    print(f'dropped out URL with weight-zscore {round(z_score_of_extreme_wide_item.max(),2)}: {extreme_wide_item}')\n",
    "    df = df.loc[df['url'] != extreme_wide_item]"
   ]
  },
  {
   "cell_type": "markdown",
   "metadata": {},
   "source": [
    "Modelling"
   ]
  },
  {
   "cell_type": "code",
   "execution_count": null,
   "metadata": {},
   "outputs": [],
   "source": [
    "predictors = ['weight', 'width']\n",
    "target = 'price'\n",
    "summary = {}\n",
    "df = df.dropna(subset=predictors + [target])\n",
    "print(f'After dropping NANs sample size is: {df.shape[0]}')"
   ]
  },
  {
   "cell_type": "code",
   "execution_count": null,
   "metadata": {},
   "outputs": [],
   "source": [
    "data_train, data_test, target_train, target_test = train_test_split(df[predictors], df[target], test_size=0.25, random_state=myrandom)\n",
    "train_df = data_train.join([target_train])\n",
    "test_df = data_test.join([target_test])"
   ]
  },
  {
   "cell_type": "code",
   "execution_count": null,
   "metadata": {},
   "outputs": [],
   "source": [
    "data_train.plot.scatter(x = 'width', y = 'weight')"
   ]
  },
  {
   "cell_type": "code",
   "execution_count": null,
   "metadata": {},
   "outputs": [],
   "source": [
    "train_df.plot(x='weight', y='price', style='o')\n",
    "plt.title('weight vs price')"
   ]
  },
  {
   "cell_type": "code",
   "execution_count": null,
   "metadata": {},
   "outputs": [],
   "source": [
    "model=RandomForestRegressor(n_estimators=50, max_depth=3, random_state=myrandom)\n",
    "model.fit(data_train, target_train)\n",
    "\n",
    "y_pred = model.predict(data_test)\n",
    "error_df = pd.DataFrame({'Actual': target_test, 'Predicted': y_pred})\n",
    "error_df.plot(x='Actual', y='Predicted', style='o')"
   ]
  },
  {
   "cell_type": "code",
   "execution_count": null,
   "metadata": {},
   "outputs": [],
   "source": [
    "np.corrcoef([target_test, y_pred])"
   ]
  },
  {
   "cell_type": "code",
   "execution_count": null,
   "metadata": {},
   "outputs": [],
   "source": [
    "r2_score(target_test, y_pred)"
   ]
  },
  {
   "cell_type": "code",
   "execution_count": null,
   "metadata": {},
   "outputs": [],
   "source": [
    "print('Mean Absolute Error:', sklearn.metrics.mean_absolute_error(target_test, y_pred))\n",
    "print('Mean Squared Error:', sklearn.metrics.mean_squared_error(target_test, y_pred))\n",
    "print('Root Mean Squared Error:', np.sqrt(sklearn.metrics.mean_squared_error(target_test, y_pred)))"
   ]
  },
  {
   "cell_type": "code",
   "execution_count": null,
   "metadata": {},
   "outputs": [],
   "source": [
    "varimp = {}\n",
    "for var,weight in zip(data_train.columns, model.feature_importances_):\n",
    "    varimp[var] = weight\n",
    "pd.DataFrame({'varimp': varimp}).sort_values('varimp').plot.barh()"
   ]
  },
  {
   "cell_type": "code",
   "execution_count": null,
   "metadata": {},
   "outputs": [],
   "source": [
    "pickle.dump(model, open('nyaklanc_first_rf.pickle', 'wb'))"
   ]
  }
 ],
 "metadata": {
  "interpreter": {
   "hash": "b3ba2566441a7c06988d0923437866b63cedc61552a5af99d1f4fb67d367b25f"
  },
  "kernelspec": {
   "display_name": "Python 3.7.1 ('base')",
   "language": "python",
   "name": "python3"
  },
  "language_info": {
   "codemirror_mode": {
    "name": "ipython",
    "version": 3
   },
   "file_extension": ".py",
   "mimetype": "text/x-python",
   "name": "python",
   "nbconvert_exporter": "python",
   "pygments_lexer": "ipython3",
   "version": "3.8.2"
  },
  "orig_nbformat": 4
 },
 "nbformat": 4,
 "nbformat_minor": 2
}
