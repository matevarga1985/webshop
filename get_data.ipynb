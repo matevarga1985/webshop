{
 "cells": [
  {
   "cell_type": "code",
   "execution_count": 3,
   "metadata": {},
   "outputs": [],
   "source": [
    "from bs4 import BeautifulSoup\n",
    "import requests"
   ]
  },
  {
   "cell_type": "code",
   "execution_count": 115,
   "metadata": {},
   "outputs": [
    {
     "name": "stdout",
     "output_type": "stream",
     "text": [
      "317 item-url is found after going through 4 pages\n"
     ]
    }
   ],
   "source": [
    "n_of_pages=4\n",
    "baselink = \"https://www.aekszerek.hu/arany/noi-arany-nyaklancok.html?lis=\"\n",
    "urls_for_items = [] # e.g.\"https://www.aekszerek.hu/ezust/nyaklancok/noi/ezust-nyaklanc-sziv-p156367.html\",\n",
    "\n",
    "for page in range(n_of_pages):\n",
    "    soupbase = BeautifulSoup(requests.get(baselink + str(page)).content, \"html.parser\")\n",
    "\n",
    "    items_on_page = soupbase.find_all('div', class_=\"item_img\")\n",
    "    urls_for_items_on_this_page = [\"https://www.aekszerek.hu/\" + item.a['href'] for item in items_on_page]\n",
    "\n",
    "\n",
    "    urls_for_items = urls_for_items + urls_for_items_on_this_page\n",
    "\n",
    "print(f\"{len(urls_for_items)} item-url is found after going through {n_of_pages} pages\")"
   ]
  },
  {
   "cell_type": "code",
   "execution_count": 116,
   "metadata": {},
   "outputs": [],
   "source": [
    "def get_details_of_items(itemurl):\n",
    "    pass"
   ]
  },
  {
   "cell_type": "code",
   "execution_count": 117,
   "metadata": {},
   "outputs": [],
   "source": [
    "itemurl = urls_for_items[0]"
   ]
  },
  {
   "cell_type": "code",
   "execution_count": 118,
   "metadata": {},
   "outputs": [],
   "source": [
    "soup = BeautifulSoup(requests.get(itemurl).content, \"html.parser\")"
   ]
  },
  {
   "cell_type": "code",
   "execution_count": 119,
   "metadata": {},
   "outputs": [
    {
     "data": {
      "text/plain": [
       "'Nyaklánc szívvel iGold, nőknek (IZ19400M) | aEkszerek.hu'"
      ]
     },
     "execution_count": 119,
     "metadata": {},
     "output_type": "execute_result"
    }
   ],
   "source": [
    "soup.title.text"
   ]
  },
  {
   "cell_type": "code",
   "execution_count": 120,
   "metadata": {},
   "outputs": [
    {
     "data": {
      "text/plain": [
       "<span class=\"now-price\" id=\"pricevalue\">\n",
       "56 510 Ft\n",
       "</span>"
      ]
     },
     "execution_count": 120,
     "metadata": {},
     "output_type": "execute_result"
    }
   ],
   "source": [
    "# soup.find('div', class_=\"price\")\n",
    "soup.find('span', id=\"pricevalue\")"
   ]
  },
  {
   "cell_type": "code",
   "execution_count": 124,
   "metadata": {},
   "outputs": [
    {
     "data": {
      "text/plain": [
       "' \\nAnyag: Arany 14K,\\nNyaklánc kapocs: rugós kapocs,\\nMotívum: Szívecskék,\\nCélcsoport: Női,\\nÉkszer súlya: 1.65 gramm,\\nTisztaság: 0,585,\\nArany színe: Sárga arany,\\nHossz: Válassza ki a méretet,\\nSzélesség: 12 mm,\\nMagasság: 12,\\nÁllapot: Rendszerint kézbesítve: 2 - 6 munkanapon belül,\\nKő: Cirkon,\\n Nyaklánc 14 karátos sárga aranyból. Finom láncból és faragott szív alakú medálból áll, csillogó cirkóniákkal díszítve. Kényeztesse magát ezzel a nyaklánccal, amely gyönyörűen díszíti majd a nyakkivágását. '"
      ]
     },
     "execution_count": 124,
     "metadata": {},
     "output_type": "execute_result"
    }
   ],
   "source": [
    "details_in_string = soup.find('div', class_='col-md-8 col-sm-12 col-xs-12 margin-bottom10 toggle-content').text\n",
    "details_in_string"
   ]
  },
  {
   "cell_type": "code",
   "execution_count": 127,
   "metadata": {},
   "outputs": [],
   "source": [
    "details_in_string = details_in_string.replace('\\n', '').replace(' ','')"
   ]
  }
 ],
 "metadata": {
  "interpreter": {
   "hash": "8d06dc2b3c886f11aa8cc8b4f512d81e7036453e0e479b76a08dae5bce600d9b"
  },
  "kernelspec": {
   "display_name": "Python 3.8.2 64-bit",
   "language": "python",
   "name": "python3"
  },
  "language_info": {
   "codemirror_mode": {
    "name": "ipython",
    "version": 3
   },
   "file_extension": ".py",
   "mimetype": "text/x-python",
   "name": "python",
   "nbconvert_exporter": "python",
   "pygments_lexer": "ipython3",
   "version": "3.8.2"
  },
  "orig_nbformat": 4
 },
 "nbformat": 4,
 "nbformat_minor": 2
}
